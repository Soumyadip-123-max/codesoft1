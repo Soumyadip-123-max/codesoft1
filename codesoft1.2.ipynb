{
  "cells": [
    {
      "cell_type": "code",
      "execution_count": 1,
      "metadata": {
        "colab": {
          "base_uri": "https://localhost:8080/"
        },
        "id": "a5xyrOW2f8o7",
        "outputId": "ef8a9b25-b61a-44bc-8b0f-b01a3a575bdb"
      },
      "outputs": [
        {
          "name": "stdout",
          "output_type": "stream",
          "text": [
            "Available Currencies:\n",
            "1. USD - United States Dollar\n",
            "2. EUR - Euro\n",
            "3. INR - Indian Rupee\n",
            "4. GBP - British Pound\n",
            "5. JPY - Japanese Yen\n",
            "Enter the number for the BASE currency: 3\n",
            "Enter the number for the TARGET currency: 1\n",
            "You selected: INR → USD\n"
          ]
        }
      ],
      "source": [
        "# Currency selection program\n",
        "\n",
        "# Predefined list of currencies\n",
        "currencies = {\n",
        "    \"1\": \"USD - United States Dollar\",\n",
        "    \"2\": \"EUR - Euro\",\n",
        "    \"3\": \"INR - Indian Rupee\",\n",
        "    \"4\": \"GBP - British Pound\",\n",
        "    \"5\": \"JPY - Japanese Yen\"\n",
        "}\n",
        "\n",
        "# Display available currencies\n",
        "print(\"Available Currencies:\")\n",
        "for key, value in currencies.items():\n",
        "    print(f\"{key}. {value}\")\n",
        "\n",
        "# Ask the user to choose base and target currency\n",
        "base_choice = input(\"Enter the number for the BASE currency: \")\n",
        "target_choice = input(\"Enter the number for the TARGET currency: \")\n",
        "\n",
        "# Validate the choices\n",
        "if base_choice in currencies and target_choice in currencies:\n",
        "    base_currency = currencies[base_choice].split(\" - \")[0]\n",
        "    target_currency = currencies[target_choice].split(\" - \")[0]\n",
        "    print(f\"You selected: {base_currency} → {target_currency}\")\n",
        "else:\n",
        "    print(\"Invalid currency selection. Please try again.\")\n"
      ]
    },
    {
      "cell_type": "code",
      "execution_count": 2,
      "metadata": {
        "colab": {
          "base_uri": "https://localhost:8080/"
        },
        "id": "PsUbIiNajZUv",
        "outputId": "4901beab-998b-42e0-d1f4-1081b2a03b86"
      },
      "outputs": [
        {
          "name": "stdout",
          "output_type": "stream",
          "text": [
            "Enter the base currency (e.g., USD, INR, EUR): USD\n",
            "Enter the target currency (e.g., USD, INR, EUR): INR\n",
            "Enter the amount in USD: 10\n",
            "\n",
            "💱 1 USD = 87.61 INR\n",
            "✅ 10.0 USD = 876.10 INR\n"
          ]
        }
      ],
      "source": [
        "import requests\n",
        "\n",
        "# Base currency selection\n",
        "base_currency = input(\"Enter the base currency (e.g., USD, INR, EUR): \").upper()\n",
        "\n",
        "# Target currency selection\n",
        "target_currency = input(\"Enter the target currency (e.g., USD, INR, EUR): \").upper()\n",
        "\n",
        "# Amount to convert\n",
        "amount = float(input(f\"Enter the amount in {base_currency}: \"))\n",
        "\n",
        "# Fetch real-time rates from ExchangeRate API\n",
        "url = f\"https://api.exchangerate-api.com/v4/latest/{base_currency}\"\n",
        "response = requests.get(url)\n",
        "\n",
        "if response.status_code == 200:\n",
        "    data = response.json()\n",
        "\n",
        "    if target_currency in data[\"rates\"]:\n",
        "        rate = data[\"rates\"][target_currency]\n",
        "        converted_amount = amount * rate\n",
        "        print(f\"\\n💱 1 {base_currency} = {rate} {target_currency}\")\n",
        "        print(f\"✅ {amount} {base_currency} = {converted_amount:.2f} {target_currency}\")\n",
        "    else:\n",
        "        print(\"❌ Target currency not found in the API data.\")\n",
        "else:\n",
        "    print(\"❌ Failed to fetch exchange rates. Please check the currency code or internet connection.\")\n"
      ]
    },
    {
      "cell_type": "code",
      "execution_count": 3,
      "metadata": {
        "colab": {
          "base_uri": "https://localhost:8080/"
        },
        "id": "OySzDsvukBxI",
        "outputId": "beb91a01-6ee2-4174-8de6-fb819d0bb1d8"
      },
      "outputs": [
        {
          "name": "stdout",
          "output_type": "stream",
          "text": [
            "Available Currencies:\n",
            "1. USD - United States Dollar\n",
            "2. EUR - Euro\n",
            "3. INR - Indian Rupee\n",
            "4. GBP - British Pound\n",
            "5. JPY - Japanese Yen\n",
            "Enter the number for the BASE currency: 3\n",
            "Enter the number for the TARGET currency: 1\n",
            "Enter the amount in INR: 10\n",
            "\n",
            "💱 1 INR = 0.0114 USD\n",
            "✅ 10.0 INR = 0.11 USD\n"
          ]
        }
      ],
      "source": [
        "import requests\n",
        "\n",
        "# Predefined list of currencies\n",
        "currencies = {\n",
        "    \"1\": \"USD - United States Dollar\",\n",
        "    \"2\": \"EUR - Euro\",\n",
        "    \"3\": \"INR - Indian Rupee\",\n",
        "    \"4\": \"GBP - British Pound\",\n",
        "    \"5\": \"JPY - Japanese Yen\"\n",
        "}\n",
        "\n",
        "# Display available currencies\n",
        "print(\"Available Currencies:\")\n",
        "for key, value in currencies.items():\n",
        "    print(f\"{key}. {value}\")\n",
        "\n",
        "# Choose base and target currencies\n",
        "base_choice = input(\"Enter the number for the BASE currency: \")\n",
        "target_choice = input(\"Enter the number for the TARGET currency: \")\n",
        "\n",
        "if base_choice in currencies and target_choice in currencies:\n",
        "    base_currency = currencies[base_choice].split(\" - \")[0]\n",
        "    target_currency = currencies[target_choice].split(\" - \")[0]\n",
        "\n",
        "    # Take amount input\n",
        "    try:\n",
        "        amount = float(input(f\"Enter the amount in {base_currency}: \"))\n",
        "    except ValueError:\n",
        "        print(\"❌ Invalid amount entered.\")\n",
        "        exit()\n",
        "\n",
        "    # Fetch real-time exchange rates\n",
        "    url = f\"https://api.exchangerate-api.com/v4/latest/{base_currency}\"\n",
        "    response = requests.get(url)\n",
        "\n",
        "    if response.status_code == 200:\n",
        "        data = response.json()\n",
        "        if target_currency in data[\"rates\"]:\n",
        "            rate = data[\"rates\"][target_currency]\n",
        "            converted_amount = amount * rate\n",
        "            print(f\"\\n💱 1 {base_currency} = {rate} {target_currency}\")\n",
        "            print(f\"✅ {amount} {base_currency} = {converted_amount:.2f} {target_currency}\")\n",
        "        else:\n",
        "            print(\"❌ Target currency not found in the API data.\")\n",
        "    else:\n",
        "        print(\"❌ Failed to fetch exchange rates. Check internet connection or currency code.\")\n",
        "else:\n",
        "    print(\"❌ Invalid currency selection. Please try again.\")\n"
      ]
    },
    {
      "cell_type": "code",
      "execution_count": 4,
      "metadata": {
        "colab": {
          "base_uri": "https://localhost:8080/"
        },
        "id": "rYSiwgjzk0aZ",
        "outputId": "f2fe1d77-91e2-4872-d3fe-f4dea9f51190"
      },
      "outputs": [
        {
          "name": "stdout",
          "output_type": "stream",
          "text": [
            "Available Currencies:\n",
            "1. USD - United States Dollar\n",
            "2. EUR - Euro\n",
            "3. INR - Indian Rupee\n",
            "4. GBP - British Pound\n",
            "5. JPY - Japanese Yen\n",
            "Enter the number for the BASE currency: 3\n",
            "Enter the number for the TARGET currency: 1\n",
            "Enter the amount in INR: 20\n",
            "\n",
            "💱 1 INR = 0.0114 USD\n",
            "✅ 20.0 INR = 0.23 USD\n"
          ]
        }
      ],
      "source": [
        "import requests\n",
        "\n",
        "# Predefined list of currencies\n",
        "currencies = {\n",
        "    \"1\": \"USD - United States Dollar\",\n",
        "    \"2\": \"EUR - Euro\",\n",
        "    \"3\": \"INR - Indian Rupee\",\n",
        "    \"4\": \"GBP - British Pound\",\n",
        "    \"5\": \"JPY - Japanese Yen\"\n",
        "}\n",
        "\n",
        "# Display available currencies\n",
        "print(\"Available Currencies:\")\n",
        "for key, value in currencies.items():\n",
        "    print(f\"{key}. {value}\")\n",
        "\n",
        "# Choose base and target currencies\n",
        "base_choice = input(\"Enter the number for the BASE currency: \")\n",
        "target_choice = input(\"Enter the number for the TARGET currency: \")\n",
        "\n",
        "if base_choice in currencies and target_choice in currencies:\n",
        "    base_currency = currencies[base_choice].split(\" - \")[0]\n",
        "    target_currency = currencies[target_choice].split(\" - \")[0]\n",
        "\n",
        "    # Take amount input\n",
        "    try:\n",
        "        amount = float(input(f\"Enter the amount in {base_currency}: \"))\n",
        "    except ValueError:\n",
        "        print(\"❌ Invalid amount entered.\")\n",
        "        exit()\n",
        "\n",
        "    # Fetch real-time exchange rates\n",
        "    url = f\"https://api.exchangerate-api.com/v4/latest/{base_currency}\"\n",
        "    response = requests.get(url)\n",
        "\n",
        "    if response.status_code == 200:\n",
        "        data = response.json()\n",
        "\n",
        "        # Currency conversion\n",
        "        if target_currency in data[\"rates\"]:\n",
        "            rate = data[\"rates\"][target_currency]\n",
        "            converted_amount = amount * rate\n",
        "            print(f\"\\n💱 1 {base_currency} = {rate} {target_currency}\")\n",
        "            print(f\"✅ {amount} {base_currency} = {converted_amount:.2f} {target_currency}\")\n",
        "        else:\n",
        "            print(\"❌ Target currency not found in API data.\")\n",
        "    else:\n",
        "        print(\"❌ Failed to fetch exchange rates. Check internet connection.\")\n",
        "else:\n",
        "    print(\"❌ Invalid currency selection. Please try again.\")\n"
      ]
    },
    {
      "cell_type": "code",
      "execution_count": 5,
      "metadata": {
        "colab": {
          "base_uri": "https://localhost:8080/"
        },
        "id": "S_hHFMsplouA",
        "outputId": "89c51995-a35f-405d-aa83-5a1867bd6cc3"
      },
      "outputs": [
        {
          "name": "stdout",
          "output_type": "stream",
          "text": [
            "Available Currencies:\n",
            "1. USD - United States Dollar\n",
            "2. EUR - Euro\n",
            "3. INR - Indian Rupee\n",
            "4. GBP - British Pound\n",
            "5. JPY - Japanese Yen\n",
            "Enter the number for the BASE currency: 1\n",
            "Enter the number for the TARGET currency: 3\n",
            "Enter the amount in USD ($): 10\n",
            "\n",
            "💱 1 USD ($) = 87.61 INR (₹)\n",
            "✅ 10.0 USD ($) = ₹876.10 INR\n"
          ]
        }
      ],
      "source": [
        "import requests\n",
        "\n",
        "# Predefined list of currencies with symbols\n",
        "currencies = {\n",
        "    \"1\": (\"USD\", \"$\", \"United States Dollar\"),\n",
        "    \"2\": (\"EUR\", \"€\", \"Euro\"),\n",
        "    \"3\": (\"INR\", \"₹\", \"Indian Rupee\"),\n",
        "    \"4\": (\"GBP\", \"£\", \"British Pound\"),\n",
        "    \"5\": (\"JPY\", \"¥\", \"Japanese Yen\")\n",
        "}\n",
        "\n",
        "# Display available currencies\n",
        "print(\"Available Currencies:\")\n",
        "for key, (code, symbol, name) in currencies.items():\n",
        "    print(f\"{key}. {code} - {name}\")\n",
        "\n",
        "# Choose base and target currencies\n",
        "base_choice = input(\"Enter the number for the BASE currency: \")\n",
        "target_choice = input(\"Enter the number for the TARGET currency: \")\n",
        "\n",
        "if base_choice in currencies and target_choice in currencies:\n",
        "    base_currency, base_symbol, _ = currencies[base_choice]\n",
        "    target_currency, target_symbol, _ = currencies[target_choice]\n",
        "\n",
        "    # Take amount input\n",
        "    try:\n",
        "        amount = float(input(f\"Enter the amount in {base_currency} ({base_symbol}): \"))\n",
        "    except ValueError:\n",
        "        print(\"❌ Invalid amount entered.\")\n",
        "        exit()\n",
        "\n",
        "    # Fetch real-time exchange rates\n",
        "    url = f\"https://api.exchangerate-api.com/v4/latest/{base_currency}\"\n",
        "    response = requests.get(url)\n",
        "\n",
        "    if response.status_code == 200:\n",
        "        data = response.json()\n",
        "\n",
        "        # Currency conversion\n",
        "        if target_currency in data[\"rates\"]:\n",
        "            rate = data[\"rates\"][target_currency]\n",
        "            converted_amount = amount * rate\n",
        "            print(f\"\\n💱 1 {base_currency} ({base_symbol}) = {rate:.2f} {target_currency} ({target_symbol})\")\n",
        "            print(f\"✅ {amount} {base_currency} ({base_symbol}) = {target_symbol}{converted_amount:,.2f} {target_currency}\")\n",
        "        else:\n",
        "            print(\"❌ Target currency not found in API data.\")\n",
        "    else:\n",
        "        print(\"❌ Failed to fetch exchange rates. Check internet connection.\")\n",
        "else:\n",
        "    print(\"❌ Invalid currency selection. Please try again.\")\n"
      ]
    }
  ],
  "metadata": {
    "colab": {
      "provenance": []
    },
    "kernelspec": {
      "display_name": "Python 3",
      "name": "python3"
    },
    "language_info": {
      "name": "python"
    }
  },
  "nbformat": 4,
  "nbformat_minor": 0
}
