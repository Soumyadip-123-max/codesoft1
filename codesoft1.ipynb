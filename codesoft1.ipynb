{
  "cells": [
    {
      "cell_type": "code",
      "execution_count": 1,
      "metadata": {
        "colab": {
          "base_uri": "https://localhost:8080/"
        },
        "id": "sd64nMaZJzHI",
        "outputId": "cf1a69e7-fd5b-4d9e-bacc-f476201789b2"
      },
      "outputs": [
        {
          "name": "stdout",
          "output_type": "stream",
          "text": [
            "Random number between 1 and 100: 68\n"
          ]
        }
      ],
      "source": [
        "import random\n",
        "\n",
        "# Generate a random number between 1 and 100 (inclusive)\n",
        "random_number = random.randint(1, 100)\n",
        "\n",
        "print(\"Random number between 1 and 100:\", random_number)\n"
      ]
    },
    {
      "cell_type": "markdown",
      "metadata": {
        "id": "aSntaS0UKlMq"
      },
      "source": []
    },
    {
      "cell_type": "code",
      "execution_count": 2,
      "metadata": {
        "colab": {
          "base_uri": "https://localhost:8080/"
        },
        "id": "ZPZgdZTCKw3T",
        "outputId": "9b1cbc33-6c90-474c-fd0a-fa2e28a627d5"
      },
      "outputs": [
        {
          "name": "stdout",
          "output_type": "stream",
          "text": [
            "Guess the number between 1 and 100: 10\n",
            "Your guess: 10\n",
            "Generated number: 69\n"
          ]
        }
      ],
      "source": [
        "import random\n",
        "\n",
        "# Generate a random number between 1 and 100\n",
        "random_number = random.randint(1, 100)\n",
        "\n",
        "# Prompt the user to enter their guess\n",
        "guess = int(input(\"Guess the number between 1 and 100: \"))\n",
        "\n",
        "print(\"Your guess:\", guess)\n",
        "print(\"Generated number:\", random_number)\n"
      ]
    },
    {
      "cell_type": "code",
      "execution_count": null,
      "metadata": {
        "colab": {
          "base_uri": "https://localhost:8080/"
        },
        "id": "80Q7KhBbLlp5",
        "outputId": "fb2a3f08-736c-4c46-a854-2cd8a30a2b48"
      },
      "outputs": [
        {
          "name": "stdout",
          "output_type": "stream",
          "text": [
            "Guess the number between 1 and 100: 20\n",
            "Too low! Try again.\n",
            "Guess the number between 1 and 100: 30\n",
            "Too low! Try again.\n",
            "Guess the number between 1 and 100: 90\n",
            "Too high! Try again.\n"
          ]
        }
      ],
      "source": [
        "import random\n",
        "\n",
        "# Generate a random number between 1 and 100\n",
        "random_number = random.randint(1, 100)\n",
        "\n",
        "while True:\n",
        "    # Prompt the user to enter their guess\n",
        "    guess = int(input(\"Guess the number between 1 and 100: \"))\n",
        "\n",
        "    if guess == random_number:\n",
        "        print(\"🎉 Correct! You guessed the number.\")\n",
        "        break\n",
        "    elif guess < random_number:\n",
        "        print(\"Too low! Try again.\")\n",
        "    else:\n",
        "        print(\"Too high! Try again.\")\n"
      ]
    },
    {
      "cell_type": "code",
      "execution_count": null,
      "metadata": {
        "id": "8gFQ0YPYPmRD"
      },
      "outputs": [],
      "source": [
        "import random\n",
        "\n",
        "num = random.randint(1, 100)\n",
        "\n",
        "while True:\n",
        "    guess = int(input(\"Guess (1-100): \"))\n",
        "    if guess == num:\n",
        "        print(\"Correct!\")\n",
        "        break\n",
        "    elif guess < num:\n",
        "        print(\"Too low!\")\n",
        "    else:\n",
        "        print(\"Too high!\")\n"
      ]
    }
  ],
  "metadata": {
    "colab": {
      "provenance": []
    },
    "kernelspec": {
      "display_name": "Python 3",
      "name": "python3"
    },
    "language_info": {
      "name": "python"
    }
  },
  "nbformat": 4,
  "nbformat_minor": 0
}
