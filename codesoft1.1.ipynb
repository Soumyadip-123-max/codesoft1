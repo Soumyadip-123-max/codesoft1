{
  "cells": [
    {
      "cell_type": "code",
      "execution_count": 1,
      "metadata": {
        "colab": {
          "base_uri": "https://localhost:8080/"
        },
        "id": "XQlkakzeYi9K",
        "outputId": "d2affb32-c0f9-45d5-c6ae-8c17729be89f"
      },
      "outputs": [
        {
          "name": "stdout",
          "output_type": "stream",
          "text": [
            "Enter marks for Subject 1 (out of 100): 79\n",
            "Enter marks for Subject 2 (out of 100): 90\n",
            "Enter marks for Subject 3 (out of 100): 85\n",
            "Enter marks for Subject 4 (out of 100): 81\n",
            "Enter marks for Subject 5 (out of 100): 80\n",
            "\n",
            "Marks obtained:\n",
            "Subject 1: 79.0\n",
            "Subject 2: 90.0\n",
            "Subject 3: 85.0\n",
            "Subject 4: 81.0\n",
            "Subject 5: 80.0\n"
          ]
        }
      ],
      "source": [
        "# Taking marks input for each subject\n",
        "subject1 = float(input(\"Enter marks for Subject 1 (out of 100): \"))\n",
        "subject2 = float(input(\"Enter marks for Subject 2 (out of 100): \"))\n",
        "subject3 = float(input(\"Enter marks for Subject 3 (out of 100): \"))\n",
        "subject4 = float(input(\"Enter marks for Subject 4 (out of 100): \"))\n",
        "subject5 = float(input(\"Enter marks for Subject 5 (out of 100): \"))\n",
        "\n",
        "# Display the marks\n",
        "print(\"\\nMarks obtained:\")\n",
        "print(\"Subject 1:\", subject1)\n",
        "print(\"Subject 2:\", subject2)\n",
        "print(\"Subject 3:\", subject3)\n",
        "print(\"Subject 4:\", subject4)\n",
        "print(\"Subject 5:\", subject5)\n"
      ]
    },
    {
      "cell_type": "code",
      "execution_count": 2,
      "metadata": {
        "colab": {
          "base_uri": "https://localhost:8080/"
        },
        "id": "Tmy4Loq1Zjmz",
        "outputId": "20fe65c3-2f23-4246-8218-1aec0b1a12f7"
      },
      "outputs": [
        {
          "name": "stdout",
          "output_type": "stream",
          "text": [
            "Enter marks for Subject 1 (out of 100): 90\n",
            "Enter marks for Subject 2 (out of 100): 85\n",
            "Enter marks for Subject 3 (out of 100): 70\n",
            "Enter marks for Subject 4 (out of 100): 92\n",
            "Enter marks for Subject 5 (out of 100): 87\n",
            "\n",
            "Total Marks Obtained: 424.0\n"
          ]
        }
      ],
      "source": [
        "# Taking marks input for each subject\n",
        "subject1 = float(input(\"Enter marks for Subject 1 (out of 100): \"))\n",
        "subject2 = float(input(\"Enter marks for Subject 2 (out of 100): \"))\n",
        "subject3 = float(input(\"Enter marks for Subject 3 (out of 100): \"))\n",
        "subject4 = float(input(\"Enter marks for Subject 4 (out of 100): \"))\n",
        "subject5 = float(input(\"Enter marks for Subject 5 (out of 100): \"))\n",
        "\n",
        "# Calculate total marks\n",
        "total_marks = subject1 + subject2 + subject3 + subject4 + subject5\n",
        "\n",
        "# Display results\n",
        "print(\"\\nTotal Marks Obtained:\", total_marks)\n"
      ]
    },
    {
      "cell_type": "code",
      "execution_count": 3,
      "metadata": {
        "colab": {
          "base_uri": "https://localhost:8080/"
        },
        "id": "9WMi-upGaJm0",
        "outputId": "9dd797cd-7359-46b7-b7fe-265e45539b8f"
      },
      "outputs": [
        {
          "name": "stdout",
          "output_type": "stream",
          "text": [
            "Enter marks for Subject 1 (out of 100): 90\n",
            "Enter marks for Subject 2 (out of 100): 95\n",
            "Enter marks for Subject 3 (out of 100): 89\n",
            "Enter marks for Subject 4 (out of 100): 80\n",
            "Enter marks for Subject 5 (out of 100): 75\n",
            "\n",
            "Total Marks Obtained: 429.0\n",
            "Average Percentage: 85.8 %\n"
          ]
        }
      ],
      "source": [
        "# Taking marks input for each subject\n",
        "subject1 = float(input(\"Enter marks for Subject 1 (out of 100): \"))\n",
        "subject2 = float(input(\"Enter marks for Subject 2 (out of 100): \"))\n",
        "subject3 = float(input(\"Enter marks for Subject 3 (out of 100): \"))\n",
        "subject4 = float(input(\"Enter marks for Subject 4 (out of 100): \"))\n",
        "subject5 = float(input(\"Enter marks for Subject 5 (out of 100): \"))\n",
        "\n",
        "# Calculate total marks\n",
        "total_marks = subject1 + subject2 + subject3 + subject4 + subject5\n",
        "\n",
        "# Calculate average percentage\n",
        "num_subjects = 5\n",
        "average_percentage = total_marks / num_subjects\n",
        "\n",
        "# Display results\n",
        "print(\"\\nTotal Marks Obtained:\", total_marks)\n",
        "print(\"Average Percentage:\", average_percentage, \"%\")\n"
      ]
    },
    {
      "cell_type": "code",
      "execution_count": 4,
      "metadata": {
        "colab": {
          "base_uri": "https://localhost:8080/"
        },
        "id": "SQWWdPmLa2Er",
        "outputId": "04ec39ca-017e-4e41-a94e-e937a0c482b8"
      },
      "outputs": [
        {
          "name": "stdout",
          "output_type": "stream",
          "text": [
            "Enter marks for Subject 1 (out of 100): 78\n",
            "Enter marks for Subject 2 (out of 100): 95\n",
            "Enter marks for Subject 3 (out of 100): 81\n",
            "Enter marks for Subject 4 (out of 100): 69\n",
            "Enter marks for Subject 5 (out of 100): 88\n",
            "\n",
            "Total Marks Obtained: 411.0\n",
            "Average Percentage: 82.2 %\n",
            "Grade: A\n"
          ]
        }
      ],
      "source": [
        "# Taking marks input for each subject\n",
        "subject1 = float(input(\"Enter marks for Subject 1 (out of 100): \"))\n",
        "subject2 = float(input(\"Enter marks for Subject 2 (out of 100): \"))\n",
        "subject3 = float(input(\"Enter marks for Subject 3 (out of 100): \"))\n",
        "subject4 = float(input(\"Enter marks for Subject 4 (out of 100): \"))\n",
        "subject5 = float(input(\"Enter marks for Subject 5 (out of 100): \"))\n",
        "\n",
        "# Calculate total marks\n",
        "total_marks = subject1 + subject2 + subject3 + subject4 + subject5\n",
        "\n",
        "# Calculate average percentage\n",
        "num_subjects = 5\n",
        "average_percentage = total_marks / num_subjects\n",
        "\n",
        "# Grade calculation\n",
        "if average_percentage >= 90:\n",
        "    grade = \"A+\"\n",
        "elif average_percentage >= 80:\n",
        "    grade = \"A\"\n",
        "elif average_percentage >= 70:\n",
        "    grade = \"B\"\n",
        "elif average_percentage >= 60:\n",
        "    grade = \"C\"\n",
        "elif average_percentage >= 50:\n",
        "    grade = \"D\"\n",
        "else:\n",
        "    grade = \"F\"\n",
        "\n",
        "# Display results\n",
        "print(\"\\nTotal Marks Obtained:\", total_marks)\n",
        "print(\"Average Percentage:\", average_percentage, \"%\")\n",
        "print(\"Grade:\", grade)\n"
      ]
    },
    {
      "cell_type": "code",
      "execution_count": 5,
      "metadata": {
        "colab": {
          "base_uri": "https://localhost:8080/"
        },
        "id": "Xh8zniACbinc",
        "outputId": "c7ff906a-96cc-40c7-f7f4-f296abb4f596"
      },
      "outputs": [
        {
          "name": "stdout",
          "output_type": "stream",
          "text": [
            "Enter marks for Subject 1 (out of 100): 96\n",
            "Enter marks for Subject 2 (out of 100): 98\n",
            "Enter marks for Subject 3 (out of 100): 84\n",
            "Enter marks for Subject 4 (out of 100): 79\n",
            "Enter marks for Subject 5 (out of 100): 70\n",
            "\n",
            "===== Result Summary =====\n",
            "Total Marks Obtained: 427.0 / 500\n",
            "Average Percentage : 85.40%\n",
            "Grade              : A\n"
          ]
        }
      ],
      "source": [
        "# Taking marks input for each subject\n",
        "subject1 = float(input(\"Enter marks for Subject 1 (out of 100): \"))\n",
        "subject2 = float(input(\"Enter marks for Subject 2 (out of 100): \"))\n",
        "subject3 = float(input(\"Enter marks for Subject 3 (out of 100): \"))\n",
        "subject4 = float(input(\"Enter marks for Subject 4 (out of 100): \"))\n",
        "subject5 = float(input(\"Enter marks for Subject 5 (out of 100): \"))\n",
        "\n",
        "# Calculate total marks\n",
        "total_marks = subject1 + subject2 + subject3 + subject4 + subject5\n",
        "\n",
        "# Calculate average percentage\n",
        "num_subjects = 5\n",
        "average_percentage = total_marks / num_subjects\n",
        "\n",
        "# Grade calculation\n",
        "if average_percentage >= 90:\n",
        "    grade = \"A+\"\n",
        "elif average_percentage >= 80:\n",
        "    grade = \"A\"\n",
        "elif average_percentage >= 70:\n",
        "    grade = \"B\"\n",
        "elif average_percentage >= 60:\n",
        "    grade = \"C\"\n",
        "elif average_percentage >= 50:\n",
        "    grade = \"D\"\n",
        "else:\n",
        "    grade = \"F\"\n",
        "\n",
        "# Display results\n",
        "print(\"\\n===== Result Summary =====\")\n",
        "print(f\"Total Marks Obtained: {total_marks} / {num_subjects * 100}\")\n",
        "print(f\"Average Percentage : {average_percentage:.2f}%\")\n",
        "print(f\"Grade              : {grade}\")\n"
      ]
    }
  ],
  "metadata": {
    "colab": {
      "provenance": []
    },
    "kernelspec": {
      "display_name": "Python 3",
      "name": "python3"
    },
    "language_info": {
      "name": "python"
    }
  },
  "nbformat": 4,
  "nbformat_minor": 0
}
